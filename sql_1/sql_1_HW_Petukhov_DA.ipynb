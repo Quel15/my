{
 "cells": [
  {
   "cell_type": "code",
   "execution_count": 1,
   "metadata": {},
   "outputs": [],
   "source": [
    "import sqlite3\n",
    "import pandas as pd"
   ]
  },
  {
   "cell_type": "code",
   "execution_count": 2,
   "metadata": {},
   "outputs": [],
   "source": [
    "con = sqlite3.connect(':memory:')"
   ]
  },
  {
   "cell_type": "code",
   "execution_count": 3,
   "metadata": {},
   "outputs": [],
   "source": [
    "table_names = [\n",
    "    'Categories',   # категории товаров\n",
    "    'Customers',    # заказчики\n",
    "    'Employees',    # сотрудники\n",
    "    'OrderDetails', # детали заказов\n",
    "    'Orders',       # заказы\n",
    "    'Products',     # товары\n",
    "    'Shippers',     # перевозчики\n",
    "    'Suppliers',    # поставщики\n",
    "]"
   ]
  },
  {
   "cell_type": "code",
   "execution_count": 4,
   "metadata": {},
   "outputs": [],
   "source": [
    "for table in table_names:\n",
    "    data = pd.read_csv(f'{table}.csv', sep = ';')\n",
    "    data.to_sql(table, con, index=False, if_exists='replace')"
   ]
  },
  {
   "cell_type": "code",
   "execution_count": 5,
   "metadata": {
    "tags": []
   },
   "outputs": [
    {
     "data": {
      "text/plain": [
       "'Categories'"
      ]
     },
     "metadata": {},
     "output_type": "display_data"
    },
    {
     "data": {
      "text/html": [
       "<div>\n",
       "<style scoped>\n",
       "    .dataframe tbody tr th:only-of-type {\n",
       "        vertical-align: middle;\n",
       "    }\n",
       "\n",
       "    .dataframe tbody tr th {\n",
       "        vertical-align: top;\n",
       "    }\n",
       "\n",
       "    .dataframe thead th {\n",
       "        text-align: right;\n",
       "    }\n",
       "</style>\n",
       "<table border=\"1\" class=\"dataframe\">\n",
       "  <thead>\n",
       "    <tr style=\"text-align: right;\">\n",
       "      <th></th>\n",
       "      <th>CategoryID</th>\n",
       "      <th>CategoryName</th>\n",
       "      <th>Description</th>\n",
       "    </tr>\n",
       "  </thead>\n",
       "  <tbody>\n",
       "    <tr>\n",
       "      <th>0</th>\n",
       "      <td>1</td>\n",
       "      <td>Beverages</td>\n",
       "      <td>Soft drinks, coffees, teas, beers, and ales</td>\n",
       "    </tr>\n",
       "  </tbody>\n",
       "</table>\n",
       "</div>"
      ],
      "text/plain": [
       "   CategoryID CategoryName                                  Description\n",
       "0           1    Beverages  Soft drinks, coffees, teas, beers, and ales"
      ]
     },
     "metadata": {},
     "output_type": "display_data"
    },
    {
     "data": {
      "text/plain": [
       "'Customers'"
      ]
     },
     "metadata": {},
     "output_type": "display_data"
    },
    {
     "data": {
      "text/html": [
       "<div>\n",
       "<style scoped>\n",
       "    .dataframe tbody tr th:only-of-type {\n",
       "        vertical-align: middle;\n",
       "    }\n",
       "\n",
       "    .dataframe tbody tr th {\n",
       "        vertical-align: top;\n",
       "    }\n",
       "\n",
       "    .dataframe thead th {\n",
       "        text-align: right;\n",
       "    }\n",
       "</style>\n",
       "<table border=\"1\" class=\"dataframe\">\n",
       "  <thead>\n",
       "    <tr style=\"text-align: right;\">\n",
       "      <th></th>\n",
       "      <th>CustomerID</th>\n",
       "      <th>CustomerName</th>\n",
       "      <th>ContactName</th>\n",
       "      <th>Address</th>\n",
       "      <th>City</th>\n",
       "      <th>PostalCode</th>\n",
       "      <th>Country</th>\n",
       "    </tr>\n",
       "  </thead>\n",
       "  <tbody>\n",
       "    <tr>\n",
       "      <th>0</th>\n",
       "      <td>1</td>\n",
       "      <td>Alfreds Futterkiste</td>\n",
       "      <td>Maria Anders</td>\n",
       "      <td>Obere Str. 57</td>\n",
       "      <td>Berlin</td>\n",
       "      <td>12209</td>\n",
       "      <td>Germany</td>\n",
       "    </tr>\n",
       "  </tbody>\n",
       "</table>\n",
       "</div>"
      ],
      "text/plain": [
       "   CustomerID         CustomerName   ContactName        Address    City  \\\n",
       "0           1  Alfreds Futterkiste  Maria Anders  Obere Str. 57  Berlin   \n",
       "\n",
       "  PostalCode  Country  \n",
       "0      12209  Germany  "
      ]
     },
     "metadata": {},
     "output_type": "display_data"
    },
    {
     "data": {
      "text/plain": [
       "'Employees'"
      ]
     },
     "metadata": {},
     "output_type": "display_data"
    },
    {
     "data": {
      "text/html": [
       "<div>\n",
       "<style scoped>\n",
       "    .dataframe tbody tr th:only-of-type {\n",
       "        vertical-align: middle;\n",
       "    }\n",
       "\n",
       "    .dataframe tbody tr th {\n",
       "        vertical-align: top;\n",
       "    }\n",
       "\n",
       "    .dataframe thead th {\n",
       "        text-align: right;\n",
       "    }\n",
       "</style>\n",
       "<table border=\"1\" class=\"dataframe\">\n",
       "  <thead>\n",
       "    <tr style=\"text-align: right;\">\n",
       "      <th></th>\n",
       "      <th>EmployeeID</th>\n",
       "      <th>LastName</th>\n",
       "      <th>FirstName</th>\n",
       "      <th>BirthDate</th>\n",
       "      <th>Photo</th>\n",
       "      <th>Notes</th>\n",
       "    </tr>\n",
       "  </thead>\n",
       "  <tbody>\n",
       "    <tr>\n",
       "      <th>0</th>\n",
       "      <td>1</td>\n",
       "      <td>Davolio</td>\n",
       "      <td>Nancy</td>\n",
       "      <td>08.12.1968</td>\n",
       "      <td>EmpID1.pic</td>\n",
       "      <td>Education includes a BA in psychology from Col...</td>\n",
       "    </tr>\n",
       "  </tbody>\n",
       "</table>\n",
       "</div>"
      ],
      "text/plain": [
       "   EmployeeID LastName FirstName   BirthDate       Photo  \\\n",
       "0           1  Davolio     Nancy  08.12.1968  EmpID1.pic   \n",
       "\n",
       "                                               Notes  \n",
       "0  Education includes a BA in psychology from Col...  "
      ]
     },
     "metadata": {},
     "output_type": "display_data"
    },
    {
     "data": {
      "text/plain": [
       "'OrderDetails'"
      ]
     },
     "metadata": {},
     "output_type": "display_data"
    },
    {
     "data": {
      "text/html": [
       "<div>\n",
       "<style scoped>\n",
       "    .dataframe tbody tr th:only-of-type {\n",
       "        vertical-align: middle;\n",
       "    }\n",
       "\n",
       "    .dataframe tbody tr th {\n",
       "        vertical-align: top;\n",
       "    }\n",
       "\n",
       "    .dataframe thead th {\n",
       "        text-align: right;\n",
       "    }\n",
       "</style>\n",
       "<table border=\"1\" class=\"dataframe\">\n",
       "  <thead>\n",
       "    <tr style=\"text-align: right;\">\n",
       "      <th></th>\n",
       "      <th>OrderDetailID</th>\n",
       "      <th>OrderID</th>\n",
       "      <th>ProductID</th>\n",
       "      <th>Quantity</th>\n",
       "    </tr>\n",
       "  </thead>\n",
       "  <tbody>\n",
       "    <tr>\n",
       "      <th>0</th>\n",
       "      <td>1</td>\n",
       "      <td>10248</td>\n",
       "      <td>11</td>\n",
       "      <td>12</td>\n",
       "    </tr>\n",
       "  </tbody>\n",
       "</table>\n",
       "</div>"
      ],
      "text/plain": [
       "   OrderDetailID  OrderID  ProductID  Quantity\n",
       "0              1    10248         11        12"
      ]
     },
     "metadata": {},
     "output_type": "display_data"
    },
    {
     "data": {
      "text/plain": [
       "'Orders'"
      ]
     },
     "metadata": {},
     "output_type": "display_data"
    },
    {
     "data": {
      "text/html": [
       "<div>\n",
       "<style scoped>\n",
       "    .dataframe tbody tr th:only-of-type {\n",
       "        vertical-align: middle;\n",
       "    }\n",
       "\n",
       "    .dataframe tbody tr th {\n",
       "        vertical-align: top;\n",
       "    }\n",
       "\n",
       "    .dataframe thead th {\n",
       "        text-align: right;\n",
       "    }\n",
       "</style>\n",
       "<table border=\"1\" class=\"dataframe\">\n",
       "  <thead>\n",
       "    <tr style=\"text-align: right;\">\n",
       "      <th></th>\n",
       "      <th>OrderID</th>\n",
       "      <th>CustomerID</th>\n",
       "      <th>EmployeeID</th>\n",
       "      <th>OrderDate</th>\n",
       "      <th>ShipperID</th>\n",
       "    </tr>\n",
       "  </thead>\n",
       "  <tbody>\n",
       "    <tr>\n",
       "      <th>0</th>\n",
       "      <td>10248</td>\n",
       "      <td>90</td>\n",
       "      <td>5</td>\n",
       "      <td>04.07.1996</td>\n",
       "      <td>3</td>\n",
       "    </tr>\n",
       "  </tbody>\n",
       "</table>\n",
       "</div>"
      ],
      "text/plain": [
       "   OrderID  CustomerID  EmployeeID   OrderDate  ShipperID\n",
       "0    10248          90           5  04.07.1996          3"
      ]
     },
     "metadata": {},
     "output_type": "display_data"
    },
    {
     "data": {
      "text/plain": [
       "'Products'"
      ]
     },
     "metadata": {},
     "output_type": "display_data"
    },
    {
     "data": {
      "text/html": [
       "<div>\n",
       "<style scoped>\n",
       "    .dataframe tbody tr th:only-of-type {\n",
       "        vertical-align: middle;\n",
       "    }\n",
       "\n",
       "    .dataframe tbody tr th {\n",
       "        vertical-align: top;\n",
       "    }\n",
       "\n",
       "    .dataframe thead th {\n",
       "        text-align: right;\n",
       "    }\n",
       "</style>\n",
       "<table border=\"1\" class=\"dataframe\">\n",
       "  <thead>\n",
       "    <tr style=\"text-align: right;\">\n",
       "      <th></th>\n",
       "      <th>ProductID</th>\n",
       "      <th>ProductName</th>\n",
       "      <th>SupplierID</th>\n",
       "      <th>CategoryID</th>\n",
       "      <th>Unit</th>\n",
       "      <th>Price</th>\n",
       "    </tr>\n",
       "  </thead>\n",
       "  <tbody>\n",
       "    <tr>\n",
       "      <th>0</th>\n",
       "      <td>1</td>\n",
       "      <td>Chais</td>\n",
       "      <td>1</td>\n",
       "      <td>1</td>\n",
       "      <td>10 boxes x 20 bags</td>\n",
       "      <td>18.0</td>\n",
       "    </tr>\n",
       "  </tbody>\n",
       "</table>\n",
       "</div>"
      ],
      "text/plain": [
       "   ProductID ProductName  SupplierID  CategoryID                Unit  Price\n",
       "0          1       Chais           1           1  10 boxes x 20 bags   18.0"
      ]
     },
     "metadata": {},
     "output_type": "display_data"
    },
    {
     "data": {
      "text/plain": [
       "'Shippers'"
      ]
     },
     "metadata": {},
     "output_type": "display_data"
    },
    {
     "data": {
      "text/html": [
       "<div>\n",
       "<style scoped>\n",
       "    .dataframe tbody tr th:only-of-type {\n",
       "        vertical-align: middle;\n",
       "    }\n",
       "\n",
       "    .dataframe tbody tr th {\n",
       "        vertical-align: top;\n",
       "    }\n",
       "\n",
       "    .dataframe thead th {\n",
       "        text-align: right;\n",
       "    }\n",
       "</style>\n",
       "<table border=\"1\" class=\"dataframe\">\n",
       "  <thead>\n",
       "    <tr style=\"text-align: right;\">\n",
       "      <th></th>\n",
       "      <th>ShipperID</th>\n",
       "      <th>ShipperName</th>\n",
       "      <th>Phone</th>\n",
       "    </tr>\n",
       "  </thead>\n",
       "  <tbody>\n",
       "    <tr>\n",
       "      <th>0</th>\n",
       "      <td>1</td>\n",
       "      <td>Speedy Express</td>\n",
       "      <td>(503) 555-9831</td>\n",
       "    </tr>\n",
       "  </tbody>\n",
       "</table>\n",
       "</div>"
      ],
      "text/plain": [
       "   ShipperID     ShipperName           Phone\n",
       "0          1  Speedy Express  (503) 555-9831"
      ]
     },
     "metadata": {},
     "output_type": "display_data"
    },
    {
     "data": {
      "text/plain": [
       "'Suppliers'"
      ]
     },
     "metadata": {},
     "output_type": "display_data"
    },
    {
     "data": {
      "text/html": [
       "<div>\n",
       "<style scoped>\n",
       "    .dataframe tbody tr th:only-of-type {\n",
       "        vertical-align: middle;\n",
       "    }\n",
       "\n",
       "    .dataframe tbody tr th {\n",
       "        vertical-align: top;\n",
       "    }\n",
       "\n",
       "    .dataframe thead th {\n",
       "        text-align: right;\n",
       "    }\n",
       "</style>\n",
       "<table border=\"1\" class=\"dataframe\">\n",
       "  <thead>\n",
       "    <tr style=\"text-align: right;\">\n",
       "      <th></th>\n",
       "      <th>SupplierID</th>\n",
       "      <th>SupplierName</th>\n",
       "      <th>ContactName</th>\n",
       "      <th>Address</th>\n",
       "      <th>City</th>\n",
       "      <th>PostalCode</th>\n",
       "      <th>Country</th>\n",
       "      <th>Phone</th>\n",
       "    </tr>\n",
       "  </thead>\n",
       "  <tbody>\n",
       "    <tr>\n",
       "      <th>0</th>\n",
       "      <td>1</td>\n",
       "      <td>Exotic Liquid</td>\n",
       "      <td>Charlotte Cooper</td>\n",
       "      <td>49 Gilbert St.</td>\n",
       "      <td>Londona</td>\n",
       "      <td>EC1 4SD</td>\n",
       "      <td>UK</td>\n",
       "      <td>(171) 555-2222</td>\n",
       "    </tr>\n",
       "  </tbody>\n",
       "</table>\n",
       "</div>"
      ],
      "text/plain": [
       "   SupplierID   SupplierName       ContactName         Address     City  \\\n",
       "0           1  Exotic Liquid  Charlotte Cooper  49 Gilbert St.  Londona   \n",
       "\n",
       "  PostalCode Country           Phone  \n",
       "0    EC1 4SD      UK  (171) 555-2222  "
      ]
     },
     "metadata": {},
     "output_type": "display_data"
    }
   ],
   "source": [
    "for i in table_names:\n",
    "    display(i, pd.read_sql(\n",
    "        f'''\n",
    "        SELECT * FROM {i}\n",
    "        ''',\n",
    "        con,\n",
    "    ).head(1))\n"
   ]
  },
  {
   "cell_type": "markdown",
   "metadata": {
    "tags": []
   },
   "source": [
    "### Все задания нужно выполнить только с помощью sql"
   ]
  },
  {
   "cell_type": "markdown",
   "metadata": {},
   "source": [
    "1. Выберите заказчиков из Германии, Франции и Мадрида, выведите их название, страну и адрес."
   ]
  },
  {
   "cell_type": "code",
   "execution_count": 6,
   "metadata": {
    "tags": []
   },
   "outputs": [
    {
     "data": {
      "text/html": [
       "<div>\n",
       "<style scoped>\n",
       "    .dataframe tbody tr th:only-of-type {\n",
       "        vertical-align: middle;\n",
       "    }\n",
       "\n",
       "    .dataframe tbody tr th {\n",
       "        vertical-align: top;\n",
       "    }\n",
       "\n",
       "    .dataframe thead th {\n",
       "        text-align: right;\n",
       "    }\n",
       "</style>\n",
       "<table border=\"1\" class=\"dataframe\">\n",
       "  <thead>\n",
       "    <tr style=\"text-align: right;\">\n",
       "      <th></th>\n",
       "      <th>CustomerName</th>\n",
       "      <th>Country</th>\n",
       "      <th>Address</th>\n",
       "    </tr>\n",
       "  </thead>\n",
       "  <tbody>\n",
       "    <tr>\n",
       "      <th>0</th>\n",
       "      <td>Alfreds Futterkiste</td>\n",
       "      <td>Germany</td>\n",
       "      <td>Obere Str. 57</td>\n",
       "    </tr>\n",
       "    <tr>\n",
       "      <th>1</th>\n",
       "      <td>Blauer See Delikatessen</td>\n",
       "      <td>Germany</td>\n",
       "      <td>Forsterstr. 57</td>\n",
       "    </tr>\n",
       "    <tr>\n",
       "      <th>2</th>\n",
       "      <td>Blondel père et fils</td>\n",
       "      <td>France</td>\n",
       "      <td>24, place Kléber</td>\n",
       "    </tr>\n",
       "    <tr>\n",
       "      <th>3</th>\n",
       "      <td>Bólido Comidas preparadas</td>\n",
       "      <td>Spain</td>\n",
       "      <td>C/ Araquil, 67</td>\n",
       "    </tr>\n",
       "    <tr>\n",
       "      <th>4</th>\n",
       "      <td>Bon app'</td>\n",
       "      <td>France</td>\n",
       "      <td>12, rue des Bouchers</td>\n",
       "    </tr>\n",
       "    <tr>\n",
       "      <th>5</th>\n",
       "      <td>Drachenblut Delikatessend</td>\n",
       "      <td>Germany</td>\n",
       "      <td>Walserweg 21</td>\n",
       "    </tr>\n",
       "    <tr>\n",
       "      <th>6</th>\n",
       "      <td>Du monde entier</td>\n",
       "      <td>France</td>\n",
       "      <td>67, rue des Cinquante Otages</td>\n",
       "    </tr>\n",
       "    <tr>\n",
       "      <th>7</th>\n",
       "      <td>FISSA Fabrica Inter. Salchichas S.A.</td>\n",
       "      <td>Spain</td>\n",
       "      <td>C/ Moralzarzal, 86</td>\n",
       "    </tr>\n",
       "    <tr>\n",
       "      <th>8</th>\n",
       "      <td>Folies gourmandes</td>\n",
       "      <td>France</td>\n",
       "      <td>184, chaussée de Tournai</td>\n",
       "    </tr>\n",
       "    <tr>\n",
       "      <th>9</th>\n",
       "      <td>Frankenversand</td>\n",
       "      <td>Germany</td>\n",
       "      <td>Berliner Platz 43</td>\n",
       "    </tr>\n",
       "    <tr>\n",
       "      <th>10</th>\n",
       "      <td>France restauration</td>\n",
       "      <td>France</td>\n",
       "      <td>54, rue Royale</td>\n",
       "    </tr>\n",
       "    <tr>\n",
       "      <th>11</th>\n",
       "      <td>Königlich Essen</td>\n",
       "      <td>Germany</td>\n",
       "      <td>Maubelstr. 90</td>\n",
       "    </tr>\n",
       "    <tr>\n",
       "      <th>12</th>\n",
       "      <td>La corne d'abondance</td>\n",
       "      <td>France</td>\n",
       "      <td>67, avenue de l'Europe</td>\n",
       "    </tr>\n",
       "    <tr>\n",
       "      <th>13</th>\n",
       "      <td>La maison d'Asie</td>\n",
       "      <td>France</td>\n",
       "      <td>1 rue Alsace-Lorraine</td>\n",
       "    </tr>\n",
       "    <tr>\n",
       "      <th>14</th>\n",
       "      <td>Lehmanns Marktstand</td>\n",
       "      <td>Germany</td>\n",
       "      <td>Magazinweg 7</td>\n",
       "    </tr>\n",
       "    <tr>\n",
       "      <th>15</th>\n",
       "      <td>Morgenstern Gesundkost</td>\n",
       "      <td>Germany</td>\n",
       "      <td>Heerstr. 22</td>\n",
       "    </tr>\n",
       "    <tr>\n",
       "      <th>16</th>\n",
       "      <td>Ottilies Käseladen</td>\n",
       "      <td>Germany</td>\n",
       "      <td>Mehrheimerstr. 369</td>\n",
       "    </tr>\n",
       "    <tr>\n",
       "      <th>17</th>\n",
       "      <td>Paris spécialités</td>\n",
       "      <td>France</td>\n",
       "      <td>265, boulevard Charonne</td>\n",
       "    </tr>\n",
       "    <tr>\n",
       "      <th>18</th>\n",
       "      <td>QUICK-Stop</td>\n",
       "      <td>Germany</td>\n",
       "      <td>Taucherstraße 10</td>\n",
       "    </tr>\n",
       "    <tr>\n",
       "      <th>19</th>\n",
       "      <td>Romero y tomillo</td>\n",
       "      <td>Spain</td>\n",
       "      <td>Gran Vía, 1</td>\n",
       "    </tr>\n",
       "    <tr>\n",
       "      <th>20</th>\n",
       "      <td>Spécialités du monde</td>\n",
       "      <td>France</td>\n",
       "      <td>25, rue Lauriston</td>\n",
       "    </tr>\n",
       "    <tr>\n",
       "      <th>21</th>\n",
       "      <td>Toms Spezialitäten</td>\n",
       "      <td>Germany</td>\n",
       "      <td>Luisenstr. 48</td>\n",
       "    </tr>\n",
       "    <tr>\n",
       "      <th>22</th>\n",
       "      <td>Victuailles en stock</td>\n",
       "      <td>France</td>\n",
       "      <td>2, rue du Commerce</td>\n",
       "    </tr>\n",
       "    <tr>\n",
       "      <th>23</th>\n",
       "      <td>Vins et alcools Chevalier</td>\n",
       "      <td>France</td>\n",
       "      <td>59 rue de l'Abbaye</td>\n",
       "    </tr>\n",
       "    <tr>\n",
       "      <th>24</th>\n",
       "      <td>Die Wandernde Kuh</td>\n",
       "      <td>Germany</td>\n",
       "      <td>Adenauerallee 900</td>\n",
       "    </tr>\n",
       "  </tbody>\n",
       "</table>\n",
       "</div>"
      ],
      "text/plain": [
       "                            CustomerName  Country  \\\n",
       "0                    Alfreds Futterkiste  Germany   \n",
       "1                Blauer See Delikatessen  Germany   \n",
       "2                   Blondel père et fils   France   \n",
       "3              Bólido Comidas preparadas    Spain   \n",
       "4                               Bon app'   France   \n",
       "5              Drachenblut Delikatessend  Germany   \n",
       "6                        Du monde entier   France   \n",
       "7   FISSA Fabrica Inter. Salchichas S.A.    Spain   \n",
       "8                      Folies gourmandes   France   \n",
       "9                         Frankenversand  Germany   \n",
       "10                   France restauration   France   \n",
       "11                       Königlich Essen  Germany   \n",
       "12                  La corne d'abondance   France   \n",
       "13                      La maison d'Asie   France   \n",
       "14                   Lehmanns Marktstand  Germany   \n",
       "15                Morgenstern Gesundkost  Germany   \n",
       "16                    Ottilies Käseladen  Germany   \n",
       "17                     Paris spécialités   France   \n",
       "18                            QUICK-Stop  Germany   \n",
       "19                      Romero y tomillo    Spain   \n",
       "20                  Spécialités du monde   France   \n",
       "21                    Toms Spezialitäten  Germany   \n",
       "22                  Victuailles en stock   France   \n",
       "23             Vins et alcools Chevalier   France   \n",
       "24                     Die Wandernde Kuh  Germany   \n",
       "\n",
       "                         Address  \n",
       "0                  Obere Str. 57  \n",
       "1                 Forsterstr. 57  \n",
       "2               24, place Kléber  \n",
       "3                 C/ Araquil, 67  \n",
       "4           12, rue des Bouchers  \n",
       "5                   Walserweg 21  \n",
       "6   67, rue des Cinquante Otages  \n",
       "7             C/ Moralzarzal, 86  \n",
       "8       184, chaussée de Tournai  \n",
       "9              Berliner Platz 43  \n",
       "10                54, rue Royale  \n",
       "11                 Maubelstr. 90  \n",
       "12        67, avenue de l'Europe  \n",
       "13         1 rue Alsace-Lorraine  \n",
       "14                  Magazinweg 7  \n",
       "15                   Heerstr. 22  \n",
       "16            Mehrheimerstr. 369  \n",
       "17       265, boulevard Charonne  \n",
       "18              Taucherstraße 10  \n",
       "19                   Gran Vía, 1  \n",
       "20             25, rue Lauriston  \n",
       "21                 Luisenstr. 48  \n",
       "22            2, rue du Commerce  \n",
       "23            59 rue de l'Abbaye  \n",
       "24             Adenauerallee 900  "
      ]
     },
     "execution_count": 6,
     "metadata": {},
     "output_type": "execute_result"
    }
   ],
   "source": [
    "pd.read_sql(\n",
    "    '''\n",
    "    SELECT CustomerName\t, Country, Address\n",
    "    FROM Customers c\n",
    "    Where c.Country in ('Germany', 'France') or City = 'Madrid'\n",
    "     \n",
    "    ''',\n",
    "    con,\n",
    ")"
   ]
  },
  {
   "cell_type": "markdown",
   "metadata": {},
   "source": [
    "2. Выберите топ 3 страны по количеству заказчиков, выведите их названия и количестnunique записей."
   ]
  },
  {
   "cell_type": "code",
   "execution_count": 7,
   "metadata": {
    "tags": []
   },
   "outputs": [
    {
     "data": {
      "text/html": [
       "<div>\n",
       "<style scoped>\n",
       "    .dataframe tbody tr th:only-of-type {\n",
       "        vertical-align: middle;\n",
       "    }\n",
       "\n",
       "    .dataframe tbody tr th {\n",
       "        vertical-align: top;\n",
       "    }\n",
       "\n",
       "    .dataframe thead th {\n",
       "        text-align: right;\n",
       "    }\n",
       "</style>\n",
       "<table border=\"1\" class=\"dataframe\">\n",
       "  <thead>\n",
       "    <tr style=\"text-align: right;\">\n",
       "      <th></th>\n",
       "      <th>Country</th>\n",
       "      <th>count_ord</th>\n",
       "    </tr>\n",
       "  </thead>\n",
       "  <tbody>\n",
       "    <tr>\n",
       "      <th>0</th>\n",
       "      <td>USA</td>\n",
       "      <td>13</td>\n",
       "    </tr>\n",
       "    <tr>\n",
       "      <th>1</th>\n",
       "      <td>Germany</td>\n",
       "      <td>11</td>\n",
       "    </tr>\n",
       "    <tr>\n",
       "      <th>2</th>\n",
       "      <td>France</td>\n",
       "      <td>11</td>\n",
       "    </tr>\n",
       "  </tbody>\n",
       "</table>\n",
       "</div>"
      ],
      "text/plain": [
       "   Country  count_ord\n",
       "0      USA         13\n",
       "1  Germany         11\n",
       "2   France         11"
      ]
     },
     "execution_count": 7,
     "metadata": {},
     "output_type": "execute_result"
    }
   ],
   "source": [
    "pd.read_sql(\n",
    "    '''\n",
    "    SELECT distinct Country, count(*) count_ord FROM Customers\n",
    "    group by Country\n",
    "    order by 2 desc\n",
    "    limit 3\n",
    "    ''',\n",
    "    con,\n",
    ")"
   ]
  },
  {
   "cell_type": "markdown",
   "metadata": {},
   "source": [
    "3. Выберите перевозчика, который отправил 10-й по времени заказ, выведите его название, и дату отправления."
   ]
  },
  {
   "cell_type": "code",
   "execution_count": 8,
   "metadata": {
    "tags": []
   },
   "outputs": [
    {
     "data": {
      "text/html": [
       "<div>\n",
       "<style scoped>\n",
       "    .dataframe tbody tr th:only-of-type {\n",
       "        vertical-align: middle;\n",
       "    }\n",
       "\n",
       "    .dataframe tbody tr th {\n",
       "        vertical-align: top;\n",
       "    }\n",
       "\n",
       "    .dataframe thead th {\n",
       "        text-align: right;\n",
       "    }\n",
       "</style>\n",
       "<table border=\"1\" class=\"dataframe\">\n",
       "  <thead>\n",
       "    <tr style=\"text-align: right;\">\n",
       "      <th></th>\n",
       "      <th>ShipperName</th>\n",
       "      <th>OrderDate</th>\n",
       "    </tr>\n",
       "  </thead>\n",
       "  <tbody>\n",
       "    <tr>\n",
       "      <th>0</th>\n",
       "      <td>Federal Shipping</td>\n",
       "      <td>1996-07-16</td>\n",
       "    </tr>\n",
       "  </tbody>\n",
       "</table>\n",
       "</div>"
      ],
      "text/plain": [
       "        ShipperName  OrderDate\n",
       "0  Federal Shipping 1996-07-16"
      ]
     },
     "metadata": {},
     "output_type": "display_data"
    },
    {
     "data": {
      "text/html": [
       "<div>\n",
       "<style scoped>\n",
       "    .dataframe tbody tr th:only-of-type {\n",
       "        vertical-align: middle;\n",
       "    }\n",
       "\n",
       "    .dataframe tbody tr th {\n",
       "        vertical-align: top;\n",
       "    }\n",
       "\n",
       "    .dataframe thead th {\n",
       "        text-align: right;\n",
       "    }\n",
       "</style>\n",
       "<table border=\"1\" class=\"dataframe\">\n",
       "  <thead>\n",
       "    <tr style=\"text-align: right;\">\n",
       "      <th></th>\n",
       "      <th>ShipperName</th>\n",
       "      <th>OrderDate</th>\n",
       "    </tr>\n",
       "  </thead>\n",
       "  <tbody>\n",
       "    <tr>\n",
       "      <th>0</th>\n",
       "      <td>Federal Shipping</td>\n",
       "      <td>1996-07-16</td>\n",
       "    </tr>\n",
       "  </tbody>\n",
       "</table>\n",
       "</div>"
      ],
      "text/plain": [
       "        ShipperName  OrderDate\n",
       "0  Federal Shipping 1996-07-16"
      ]
     },
     "metadata": {},
     "output_type": "display_data"
    }
   ],
   "source": [
    "display(pd.read_sql(\n",
    "    '''\n",
    "    select ShipperName, OrderDate from (\n",
    "        SELECT *, row_number() over() numb FROM Orders o left join Shippers s on o.ShipperID = s.ShipperID\n",
    "        order by substr(OrderDate, 7,4), substr(OrderDate, 4,2), substr(OrderDate, 1,2)\n",
    "        )\n",
    "    where numb = 10\n",
    "    ''',\n",
    "    con, parse_dates={'OrderDate':{'format':'%d.%m.%Y'}}\n",
    "        )\n",
    "     )\n",
    "display(pd.read_sql(\n",
    "    '''\n",
    "        SELECT s.ShipperName, o.OrderDate FROM Orders o left join Shippers s on o.ShipperID = s.ShipperID\n",
    "        order by substr(OrderDate, 7,4), substr(OrderDate, 4,2), substr(OrderDate, 1,2)\n",
    "        limit 1 offset 9\n",
    "    ''',\n",
    "    con, parse_dates={'OrderDate':{'format':'%d.%m.%Y'}}\n",
    "                    )\n",
    "    )"
   ]
  },
  {
   "cell_type": "markdown",
   "metadata": {},
   "source": [
    "4. Выберите самый дорогой заказ, выведите список товаров с их ценами."
   ]
  },
  {
   "cell_type": "code",
   "execution_count": 9,
   "metadata": {
    "tags": []
   },
   "outputs": [
    {
     "data": {
      "text/html": [
       "<div>\n",
       "<style scoped>\n",
       "    .dataframe tbody tr th:only-of-type {\n",
       "        vertical-align: middle;\n",
       "    }\n",
       "\n",
       "    .dataframe tbody tr th {\n",
       "        vertical-align: top;\n",
       "    }\n",
       "\n",
       "    .dataframe thead th {\n",
       "        text-align: right;\n",
       "    }\n",
       "</style>\n",
       "<table border=\"1\" class=\"dataframe\">\n",
       "  <thead>\n",
       "    <tr style=\"text-align: right;\">\n",
       "      <th></th>\n",
       "      <th>OrderID</th>\n",
       "      <th>ProductName</th>\n",
       "      <th>Price</th>\n",
       "      <th>Quantity</th>\n",
       "    </tr>\n",
       "  </thead>\n",
       "  <tbody>\n",
       "    <tr>\n",
       "      <th>0</th>\n",
       "      <td>10372</td>\n",
       "      <td>Sir Rodney's Marmalade</td>\n",
       "      <td>81.0</td>\n",
       "      <td>12</td>\n",
       "    </tr>\n",
       "    <tr>\n",
       "      <th>1</th>\n",
       "      <td>10372</td>\n",
       "      <td>Côte de Blaye</td>\n",
       "      <td>263.5</td>\n",
       "      <td>40</td>\n",
       "    </tr>\n",
       "    <tr>\n",
       "      <th>2</th>\n",
       "      <td>10372</td>\n",
       "      <td>Camembert Pierrot</td>\n",
       "      <td>34.0</td>\n",
       "      <td>70</td>\n",
       "    </tr>\n",
       "    <tr>\n",
       "      <th>3</th>\n",
       "      <td>10372</td>\n",
       "      <td>Mozzarella di Giovanni</td>\n",
       "      <td>34.8</td>\n",
       "      <td>42</td>\n",
       "    </tr>\n",
       "  </tbody>\n",
       "</table>\n",
       "</div>"
      ],
      "text/plain": [
       "   OrderID             ProductName  Price  Quantity\n",
       "0    10372  Sir Rodney's Marmalade   81.0        12\n",
       "1    10372           Côte de Blaye  263.5        40\n",
       "2    10372       Camembert Pierrot   34.0        70\n",
       "3    10372  Mozzarella di Giovanni   34.8        42"
      ]
     },
     "execution_count": 9,
     "metadata": {},
     "output_type": "execute_result"
    }
   ],
   "source": [
    "pd.read_sql(\n",
    "    '''\n",
    "    SELECT o.OrderID,ProductName,Price, Quantity   FROM Orders o left join OrderDetails od on o.OrderID = od.OrderID\n",
    "    left join Products p on od.ProductID = p.ProductID\n",
    "    where o.OrderID in (\n",
    "    \n",
    "    \n",
    "    SELECT o.OrderID  FROM Orders o left join OrderDetails od on o.OrderID = od.OrderID\n",
    "    left join Products p on od.ProductID = p.ProductID\n",
    "    group by o.OrderID \n",
    "    order by sum(Quantity*Price) desc\n",
    "    limit 1)\n",
    "    ''',\n",
    "    con,\n",
    ")"
   ]
  },
  {
   "cell_type": "markdown",
   "metadata": {},
   "source": [
    "5. Какой товар больше всего заказывали по количеству единиц товара, выведите его название и количество единиц в каждом из заказов."
   ]
  },
  {
   "cell_type": "code",
   "execution_count": 10,
   "metadata": {
    "tags": []
   },
   "outputs": [
    {
     "data": {
      "text/html": [
       "<div>\n",
       "<style scoped>\n",
       "    .dataframe tbody tr th:only-of-type {\n",
       "        vertical-align: middle;\n",
       "    }\n",
       "\n",
       "    .dataframe tbody tr th {\n",
       "        vertical-align: top;\n",
       "    }\n",
       "\n",
       "    .dataframe thead th {\n",
       "        text-align: right;\n",
       "    }\n",
       "</style>\n",
       "<table border=\"1\" class=\"dataframe\">\n",
       "  <thead>\n",
       "    <tr style=\"text-align: right;\">\n",
       "      <th></th>\n",
       "      <th>ProductName</th>\n",
       "      <th>OrderID</th>\n",
       "      <th>Quantity</th>\n",
       "    </tr>\n",
       "  </thead>\n",
       "  <tbody>\n",
       "    <tr>\n",
       "      <th>0</th>\n",
       "      <td>Gorgonzola Telino</td>\n",
       "      <td>10423</td>\n",
       "      <td>14</td>\n",
       "    </tr>\n",
       "    <tr>\n",
       "      <th>1</th>\n",
       "      <td>Gorgonzola Telino</td>\n",
       "      <td>10393</td>\n",
       "      <td>32</td>\n",
       "    </tr>\n",
       "    <tr>\n",
       "      <th>2</th>\n",
       "      <td>Gorgonzola Telino</td>\n",
       "      <td>10390</td>\n",
       "      <td>60</td>\n",
       "    </tr>\n",
       "    <tr>\n",
       "      <th>3</th>\n",
       "      <td>Gorgonzola Telino</td>\n",
       "      <td>10376</td>\n",
       "      <td>42</td>\n",
       "    </tr>\n",
       "    <tr>\n",
       "      <th>4</th>\n",
       "      <td>Gorgonzola Telino</td>\n",
       "      <td>10374</td>\n",
       "      <td>30</td>\n",
       "    </tr>\n",
       "    <tr>\n",
       "      <th>5</th>\n",
       "      <td>Gorgonzola Telino</td>\n",
       "      <td>10363</td>\n",
       "      <td>20</td>\n",
       "    </tr>\n",
       "    <tr>\n",
       "      <th>6</th>\n",
       "      <td>Gorgonzola Telino</td>\n",
       "      <td>10359</td>\n",
       "      <td>70</td>\n",
       "    </tr>\n",
       "    <tr>\n",
       "      <th>7</th>\n",
       "      <td>Gorgonzola Telino</td>\n",
       "      <td>10356</td>\n",
       "      <td>30</td>\n",
       "    </tr>\n",
       "    <tr>\n",
       "      <th>8</th>\n",
       "      <td>Gorgonzola Telino</td>\n",
       "      <td>10342</td>\n",
       "      <td>56</td>\n",
       "    </tr>\n",
       "    <tr>\n",
       "      <th>9</th>\n",
       "      <td>Gorgonzola Telino</td>\n",
       "      <td>10335</td>\n",
       "      <td>25</td>\n",
       "    </tr>\n",
       "    <tr>\n",
       "      <th>10</th>\n",
       "      <td>Gorgonzola Telino</td>\n",
       "      <td>10325</td>\n",
       "      <td>4</td>\n",
       "    </tr>\n",
       "    <tr>\n",
       "      <th>11</th>\n",
       "      <td>Gorgonzola Telino</td>\n",
       "      <td>10273</td>\n",
       "      <td>15</td>\n",
       "    </tr>\n",
       "    <tr>\n",
       "      <th>12</th>\n",
       "      <td>Gorgonzola Telino</td>\n",
       "      <td>10272</td>\n",
       "      <td>40</td>\n",
       "    </tr>\n",
       "    <tr>\n",
       "      <th>13</th>\n",
       "      <td>Gorgonzola Telino</td>\n",
       "      <td>10253</td>\n",
       "      <td>20</td>\n",
       "    </tr>\n",
       "  </tbody>\n",
       "</table>\n",
       "</div>"
      ],
      "text/plain": [
       "          ProductName  OrderID  Quantity\n",
       "0   Gorgonzola Telino    10423        14\n",
       "1   Gorgonzola Telino    10393        32\n",
       "2   Gorgonzola Telino    10390        60\n",
       "3   Gorgonzola Telino    10376        42\n",
       "4   Gorgonzola Telino    10374        30\n",
       "5   Gorgonzola Telino    10363        20\n",
       "6   Gorgonzola Telino    10359        70\n",
       "7   Gorgonzola Telino    10356        30\n",
       "8   Gorgonzola Telino    10342        56\n",
       "9   Gorgonzola Telino    10335        25\n",
       "10  Gorgonzola Telino    10325         4\n",
       "11  Gorgonzola Telino    10273        15\n",
       "12  Gorgonzola Telino    10272        40\n",
       "13  Gorgonzola Telino    10253        20"
      ]
     },
     "execution_count": 10,
     "metadata": {},
     "output_type": "execute_result"
    }
   ],
   "source": [
    "pd.read_sql(\n",
    "    '''  \n",
    "    select ProductName ,OrderID, Quantity  FROM OrderDetails o left join Products p on o.ProductID = p.ProductID\n",
    "    where o.ProductID in (\n",
    "    \n",
    "    SELECT p.ProductID FROM Orders o left join OrderDetails od on o.OrderID = od.OrderID\n",
    "    left join Products p on od.ProductID = p.ProductID\n",
    "    group by p.ProductID\n",
    "    order by sum(Quantity) desc\n",
    "    limit 1)\n",
    "    order by 2 desc\n",
    "    ''',\n",
    "    con,\n",
    ")"
   ]
  },
  {
   "cell_type": "markdown",
   "metadata": {},
   "source": [
    "6. Выведите топ 5 поставщиков по количеству заказов, выведите их названия, страну, контактное лицо и телефон."
   ]
  },
  {
   "cell_type": "code",
   "execution_count": 11,
   "metadata": {
    "tags": []
   },
   "outputs": [
    {
     "data": {
      "text/html": [
       "<div>\n",
       "<style scoped>\n",
       "    .dataframe tbody tr th:only-of-type {\n",
       "        vertical-align: middle;\n",
       "    }\n",
       "\n",
       "    .dataframe tbody tr th {\n",
       "        vertical-align: top;\n",
       "    }\n",
       "\n",
       "    .dataframe thead th {\n",
       "        text-align: right;\n",
       "    }\n",
       "</style>\n",
       "<table border=\"1\" class=\"dataframe\">\n",
       "  <thead>\n",
       "    <tr style=\"text-align: right;\">\n",
       "      <th></th>\n",
       "      <th>SupplierName</th>\n",
       "      <th>Country</th>\n",
       "      <th>ContactName</th>\n",
       "      <th>Phone</th>\n",
       "    </tr>\n",
       "  </thead>\n",
       "  <tbody>\n",
       "    <tr>\n",
       "      <th>0</th>\n",
       "      <td>Pavlova, Ltd.</td>\n",
       "      <td>Australia</td>\n",
       "      <td>Ian Devling</td>\n",
       "      <td>(03) 444-2343</td>\n",
       "    </tr>\n",
       "    <tr>\n",
       "      <th>1</th>\n",
       "      <td>Norske Meierier</td>\n",
       "      <td>Norway</td>\n",
       "      <td>Beate Vileid</td>\n",
       "      <td>(0)2-953010</td>\n",
       "    </tr>\n",
       "    <tr>\n",
       "      <th>2</th>\n",
       "      <td>Formaggi Fortini s.r.l.</td>\n",
       "      <td>Italy</td>\n",
       "      <td>Elio Rossi</td>\n",
       "      <td>(0544) 60323</td>\n",
       "    </tr>\n",
       "    <tr>\n",
       "      <th>3</th>\n",
       "      <td>Gai pâturage</td>\n",
       "      <td>France</td>\n",
       "      <td>Eliane Noz</td>\n",
       "      <td>38.76.98.06</td>\n",
       "    </tr>\n",
       "    <tr>\n",
       "      <th>4</th>\n",
       "      <td>Plutzer Lebensmittelgroßmärkte AG</td>\n",
       "      <td>Germany</td>\n",
       "      <td>Martin Bein</td>\n",
       "      <td>(069) 992755</td>\n",
       "    </tr>\n",
       "  </tbody>\n",
       "</table>\n",
       "</div>"
      ],
      "text/plain": [
       "                        SupplierName    Country   ContactName          Phone\n",
       "0                      Pavlova, Ltd.  Australia   Ian Devling  (03) 444-2343\n",
       "1                    Norske Meierier     Norway  Beate Vileid    (0)2-953010\n",
       "2            Formaggi Fortini s.r.l.      Italy    Elio Rossi   (0544) 60323\n",
       "3                       Gai pâturage     France    Eliane Noz    38.76.98.06\n",
       "4  Plutzer Lebensmittelgroßmärkte AG    Germany   Martin Bein   (069) 992755"
      ]
     },
     "execution_count": 11,
     "metadata": {},
     "output_type": "execute_result"
    }
   ],
   "source": [
    "pd.read_sql(\n",
    "    '''  \n",
    "    SELECT SupplierName,Country\t, ContactName,Phone   FROM OrderDetails od left join Products p on od.ProductID = p.ProductID\n",
    "    left join Suppliers s on s.SupplierID = p. SupplierID\n",
    "    group by p.SupplierID\n",
    "    order by sum(Quantity) desc\n",
    "    limit 5\n",
    "    ''',\n",
    "    con,\n",
    ")"
   ]
  },
  {
   "cell_type": "markdown",
   "metadata": {},
   "source": [
    "7. Какую категорию товаров заказывали больше всего по стоимости в Бразилии, выведите страну, название категории и сумму."
   ]
  },
  {
   "cell_type": "code",
   "execution_count": 12,
   "metadata": {
    "tags": []
   },
   "outputs": [
    {
     "data": {
      "text/html": [
       "<div>\n",
       "<style scoped>\n",
       "    .dataframe tbody tr th:only-of-type {\n",
       "        vertical-align: middle;\n",
       "    }\n",
       "\n",
       "    .dataframe tbody tr th {\n",
       "        vertical-align: top;\n",
       "    }\n",
       "\n",
       "    .dataframe thead th {\n",
       "        text-align: right;\n",
       "    }\n",
       "</style>\n",
       "<table border=\"1\" class=\"dataframe\">\n",
       "  <thead>\n",
       "    <tr style=\"text-align: right;\">\n",
       "      <th></th>\n",
       "      <th>Country</th>\n",
       "      <th>CategoryName</th>\n",
       "      <th>summ</th>\n",
       "    </tr>\n",
       "  </thead>\n",
       "  <tbody>\n",
       "    <tr>\n",
       "      <th>0</th>\n",
       "      <td>Brazil</td>\n",
       "      <td>Beverages</td>\n",
       "      <td>711.0</td>\n",
       "    </tr>\n",
       "  </tbody>\n",
       "</table>\n",
       "</div>"
      ],
      "text/plain": [
       "  Country CategoryName   summ\n",
       "0  Brazil    Beverages  711.0"
      ]
     },
     "execution_count": 12,
     "metadata": {},
     "output_type": "execute_result"
    }
   ],
   "source": [
    "pd.read_sql(\n",
    "    ''' \n",
    "    SELECT country,CategoryName, sum(Quantity*Price) summ\n",
    "    FROM Suppliers s left join Products p on p.SupplierID = s.SupplierID \n",
    "    left join OrderDetails o on o.ProductID = p.ProductID left join Categories c on p.CategoryID = c.CategoryID\n",
    "    where country = 'Brazil'\n",
    "    group by country ,CategoryName\n",
    "    ''',\n",
    "    con\n",
    ")"
   ]
  },
  {
   "cell_type": "markdown",
   "metadata": {},
   "source": [
    "8. Какая разница в стоимости между самым дорогим и самым дешевым заказом из США."
   ]
  },
  {
   "cell_type": "code",
   "execution_count": 13,
   "metadata": {
    "tags": []
   },
   "outputs": [
    {
     "data": {
      "text/html": [
       "<div>\n",
       "<style scoped>\n",
       "    .dataframe tbody tr th:only-of-type {\n",
       "        vertical-align: middle;\n",
       "    }\n",
       "\n",
       "    .dataframe tbody tr th {\n",
       "        vertical-align: top;\n",
       "    }\n",
       "\n",
       "    .dataframe thead th {\n",
       "        text-align: right;\n",
       "    }\n",
       "</style>\n",
       "<table border=\"1\" class=\"dataframe\">\n",
       "  <thead>\n",
       "    <tr style=\"text-align: right;\">\n",
       "      <th></th>\n",
       "      <th>country</th>\n",
       "      <th>max</th>\n",
       "      <th>min</th>\n",
       "      <th>diff</th>\n",
       "    </tr>\n",
       "  </thead>\n",
       "  <tbody>\n",
       "    <tr>\n",
       "      <th>0</th>\n",
       "      <td>USA</td>\n",
       "      <td>3570.0</td>\n",
       "      <td>36.8</td>\n",
       "      <td>3533.2</td>\n",
       "    </tr>\n",
       "  </tbody>\n",
       "</table>\n",
       "</div>"
      ],
      "text/plain": [
       "  country     max   min    diff\n",
       "0     USA  3570.0  36.8  3533.2"
      ]
     },
     "execution_count": 13,
     "metadata": {},
     "output_type": "execute_result"
    }
   ],
   "source": [
    "pd.read_sql(\n",
    "    '''  \n",
    "    select country, max(summ) max, min(summ) min, max(summ) - min(summ) diff from (\n",
    "    SELECT country, OrderID, sum(Quantity* Price)  summ\n",
    "    FROM OrderDetails od left join Products p on od.ProductID = p.ProductID left join Suppliers s on s.SupplierID = p. SupplierID  \n",
    "    where Country = 'USA'\n",
    "    group by country, OrderID\n",
    "    order by 2)\n",
    "    ''',\n",
    "    con,\n",
    ")"
   ]
  },
  {
   "cell_type": "markdown",
   "metadata": {},
   "source": [
    "9. Выведите количество заказов у каждого их трех самых молодых сотрудников, а также имя и фамилию во второй колонке."
   ]
  },
  {
   "cell_type": "code",
   "execution_count": 14,
   "metadata": {
    "tags": []
   },
   "outputs": [
    {
     "data": {
      "text/html": [
       "<div>\n",
       "<style scoped>\n",
       "    .dataframe tbody tr th:only-of-type {\n",
       "        vertical-align: middle;\n",
       "    }\n",
       "\n",
       "    .dataframe tbody tr th {\n",
       "        vertical-align: top;\n",
       "    }\n",
       "\n",
       "    .dataframe thead th {\n",
       "        text-align: right;\n",
       "    }\n",
       "</style>\n",
       "<table border=\"1\" class=\"dataframe\">\n",
       "  <thead>\n",
       "    <tr style=\"text-align: right;\">\n",
       "      <th></th>\n",
       "      <th>Name</th>\n",
       "      <th>count_ord</th>\n",
       "    </tr>\n",
       "  </thead>\n",
       "  <tbody>\n",
       "    <tr>\n",
       "      <th>0</th>\n",
       "      <td>Nancy Davolio</td>\n",
       "      <td>29</td>\n",
       "    </tr>\n",
       "    <tr>\n",
       "      <th>1</th>\n",
       "      <td>Janet Leverling</td>\n",
       "      <td>31</td>\n",
       "    </tr>\n",
       "    <tr>\n",
       "      <th>2</th>\n",
       "      <td>Anne Dodsworth</td>\n",
       "      <td>6</td>\n",
       "    </tr>\n",
       "  </tbody>\n",
       "</table>\n",
       "</div>"
      ],
      "text/plain": [
       "              Name  count_ord\n",
       "0    Nancy Davolio         29\n",
       "1  Janet Leverling         31\n",
       "2   Anne Dodsworth          6"
      ]
     },
     "execution_count": 14,
     "metadata": {},
     "output_type": "execute_result"
    }
   ],
   "source": [
    "pd.read_sql(\n",
    "    ''' \n",
    "    select e.FirstName||' '||LastName Name, count() count_ord FROM Orders o left join Employees e on e.EmployeeID = o. EmployeeID  \n",
    "    where o.EmployeeID in (\n",
    "    SELECT EmployeeID\n",
    "    FROM Employees e\n",
    "    order by date(substr(BirthDate,7)||'-'||substr(BirthDate,4,2)||'-'||substr(BirthDate,1,2)) desc\n",
    "    limit 3)\n",
    "    group by e.EmployeeID\n",
    "    ''',\n",
    "    con\n",
    ")"
   ]
  },
  {
   "cell_type": "markdown",
   "metadata": {},
   "source": [
    "10. Сколько банок крабового мяса всего было заказано."
   ]
  },
  {
   "cell_type": "code",
   "execution_count": 17,
   "metadata": {},
   "outputs": [
    {
     "data": {
      "text/html": [
       "<div>\n",
       "<style scoped>\n",
       "    .dataframe tbody tr th:only-of-type {\n",
       "        vertical-align: middle;\n",
       "    }\n",
       "\n",
       "    .dataframe tbody tr th {\n",
       "        vertical-align: top;\n",
       "    }\n",
       "\n",
       "    .dataframe thead th {\n",
       "        text-align: right;\n",
       "    }\n",
       "</style>\n",
       "<table border=\"1\" class=\"dataframe\">\n",
       "  <thead>\n",
       "    <tr style=\"text-align: right;\">\n",
       "      <th></th>\n",
       "      <th>ProductName</th>\n",
       "      <th>Unit</th>\n",
       "      <th>tins</th>\n",
       "    </tr>\n",
       "  </thead>\n",
       "  <tbody>\n",
       "    <tr>\n",
       "      <th>0</th>\n",
       "      <td>Boston Crab Meat</td>\n",
       "      <td>24 - 4 oz tins</td>\n",
       "      <td>6144</td>\n",
       "    </tr>\n",
       "  </tbody>\n",
       "</table>\n",
       "</div>"
      ],
      "text/plain": [
       "        ProductName            Unit  tins\n",
       "0  Boston Crab Meat  24 - 4 oz tins  6144"
      ]
     },
     "execution_count": 17,
     "metadata": {},
     "output_type": "execute_result"
    }
   ],
   "source": [
    "pd.read_sql(\n",
    "    \n",
    "    ''' \n",
    "    SELECT ProductName, Unit, sum(Quantity*substr(Unit,1,2)) tins\n",
    "    FROM Products p left join OrderDetails od on p.ProductID = od.ProductID\n",
    "    where ProductName like '%crab%'\n",
    "    group by ProductName, Unit\n",
    "    ''',\n",
    "    con\n",
    ")"
   ]
  },
  {
   "cell_type": "code",
   "execution_count": null,
   "metadata": {},
   "outputs": [],
   "source": []
  }
 ],
 "metadata": {
  "kernelspec": {
   "display_name": "Python 3 (ipykernel)",
   "language": "python",
   "name": "python3"
  },
  "language_info": {
   "codemirror_mode": {
    "name": "ipython",
    "version": 3
   },
   "file_extension": ".py",
   "mimetype": "text/x-python",
   "name": "python",
   "nbconvert_exporter": "python",
   "pygments_lexer": "ipython3",
   "version": "3.9.12"
  }
 },
 "nbformat": 4,
 "nbformat_minor": 4
}
