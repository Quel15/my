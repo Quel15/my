{
 "cells": [
  {
   "cell_type": "code",
   "execution_count": 240,
   "id": "0efd8d5a-a2bf-4197-8066-b46e656a1d0e",
   "metadata": {},
   "outputs": [],
   "source": [
    "import pandas as pd\n",
    "from curl_cffi import requests\n",
    "import sqlite3"
   ]
  },
  {
   "cell_type": "code",
   "execution_count": 143,
   "id": "53499a90-cf67-4605-97e2-75113693be3a",
   "metadata": {},
   "outputs": [],
   "source": [
    "h = {\n",
    " 'Accept': 'application/json, text/plain, */*',\n",
    "'Accept-Encoding': 'gzip, deflate, br, zstd',\n",
    "#'Cookie':'tmr_lvid=35d215fb3a77569be984da1d45f85d55; tmr_lvidTS=1720105202049; _ym_uid=1720105202382995222; _ym_d=1720105202; spid=1720105288467_5404a7e4c3f2f43831232762826fc282_d8j0eti32peevdul; _ym_isad=2; spsc=1720308606850_c99ebfa602e2614aff5876336b298206_2dc4c47e5beb4aae25be080fa9d16c8093e7e989cef732b63b8bada59af3d7da',\n",
    "'Referer':'https://xn--80az8a.xn--d1aqf.xn--p1ai/%D1%81%D0%B5%D1%80%D0%B2%D0%B8%D1%81%D1%8B/%D0%BA%D0%B0%D1%82%D0%B0%D0%BB%D0%BE%D0%B3-%D0%BD%D0%BE%D0%B2%D0%BE%D1%81%D1%82%D1%80%D0%BE%D0%B5%D0%BA/%D0%BE%D0%B1%D1%8A%D0%B5%D0%BA%D1%82/60683',\n",
    "'User-Agent':'Mozilla/5.0 (Windows NT 10.0; Win64; x64) AppleWebKit/537.36 (KHTML, like Gecko) Chrome/126.0.0.0 Safari/537.36'\n",
    "}"
   ]
  },
  {
   "cell_type": "code",
   "execution_count": 91,
   "id": "3be120b7-88c3-4bed-b355-36d6469cf343",
   "metadata": {},
   "outputs": [],
   "source": [
    "def get_date(offset):\n",
    "    ###Выгрузка списка объектов\n",
    "    url =f'https://xn--80az8a.xn--d1aqf.xn--p1ai/%D1%81%D0%B5%D1%80%D0%B2%D0%B8%D1%81%D1%8B/api/kn/object?offset={offset}&limit={100}&sortField=obj_publ_dt&sortType=desc&residentialBuildings=1&objStatus=0'\n",
    "    res = requests.get(url = url, headers= h, impersonate= 'chrome116')\n",
    "    return res.json()['data']['list'], res.json()['data']['total']"
   ]
  },
  {
   "cell_type": "code",
   "execution_count": 188,
   "id": "d354eef5-a86e-416c-92e9-593266b10831",
   "metadata": {},
   "outputs": [],
   "source": [
    "def data_obj(obj_id):\n",
    "    ###Выгрузка информации по объекту + инфраструктура.\n",
    "    url = f'https://xn--80az8a.xn--d1aqf.xn--p1ai/%D1%81%D0%B5%D1%80%D0%B2%D0%B8%D1%81%D1%8B/api/object/{obj_id}'\n",
    "    url_in = f'https://xn--80az8a.xn--d1aqf.xn--p1ai/%D1%81%D0%B5%D1%80%D0%B2%D0%B8%D1%81%D1%8B/api/object/{obj_id}/infrastructure'\n",
    "    l = []\n",
    "    res = requests.get(url = url, headers= h, impersonate= 'chrome116')\n",
    "    try:\n",
    "        res_in = requests.get(url = url_in, headers= h, impersonate= 'chrome116')\n",
    "    except Exception:\n",
    "        print(\"error\", obj_id)\n",
    "    try:\n",
    "        df = pd.json_normalize(res.json()['data'])\n",
    "    except Exception:\n",
    "        l.append(obj_id)\n",
    "        df = pd.DataFrame()\n",
    "        print(res, 'error', 'obj')\n",
    "    try:\n",
    "        df_in = pd.json_normalize(res_in.json()['data'])\n",
    "        df_in['id'] = obj_id\n",
    "        df_in = df_in[['tabName','id']]\n",
    "    except Exception:\n",
    "        print('No data', obj_id)\n",
    "        df_in = pd.DataFrame()\n",
    "    return df, df_in, l"
   ]
  },
  {
   "cell_type": "code",
   "execution_count": 97,
   "id": "d93bbe68-f9a6-4cb9-910e-f7f0bcbbda09",
   "metadata": {},
   "outputs": [
    {
     "name": "stdout",
     "output_type": "stream",
     "text": [
      "Выгружено 0  строк\n",
      "Выгружено 1000  строк\n",
      "Выгружено 2000  строк\n",
      "Выгружено 3000  строк\n",
      "Выгружено 4000  строк\n",
      "Выгружено 5000  строк\n",
      "Выгружено 6000  строк\n",
      "Выгружено 7000  строк\n",
      "Выгружено 8000  строк\n",
      "Выгружено 9000  строк\n",
      "Выгружено 10000  строк\n",
      "Выгружено 11000  строк\n",
      "Выгружено  11211  из 11211\n"
     ]
    }
   ],
   "source": [
    "offset = 0\n",
    "list_obj = []\n",
    "while True:\n",
    "    data, total = get_date(offset=offset)\n",
    "    if len(data) == 0:\n",
    "        break\n",
    "    else:\n",
    "        obj = [i.get('objId') for i in data]\n",
    "        list_obj.extend(obj)\n",
    "        if offset % 1000 ==0:\n",
    "            print('Выгружено', offset, ' строк')\n",
    "        offset += 100\n",
    "        \n",
    "print('Выгружено ',len(list_obj), ' из',total)        "
   ]
  },
  {
   "cell_type": "code",
   "execution_count": 189,
   "id": "f1b1bd71-6ffb-4e76-ae6c-51878254e707",
   "metadata": {},
   "outputs": [
    {
     "data": {
      "application/vnd.jupyter.widget-view+json": {
       "model_id": "bb7709a6191f4d538b47a9ce7e449f1b",
       "version_major": 2,
       "version_minor": 0
      },
      "text/plain": [
       "  0%|          | 0/9393 [00:00<?, ?it/s]"
      ]
     },
     "metadata": {},
     "output_type": "display_data"
    },
    {
     "name": "stdout",
     "output_type": "stream",
     "text": [
      "No data 58087\n",
      "No data 57086\n",
      "No data 57071\n",
      "No data 57014\n",
      "No data 54868\n",
      "No data 54163\n",
      "No data 53350\n",
      "No data 50907\n",
      "No data 50906\n",
      "No data 50559\n",
      "No data 50092\n",
      "No data 48984\n"
     ]
    },
    {
     "data": {
      "text/plain": [
       "(11211, 115)"
      ]
     },
     "execution_count": 189,
     "metadata": {},
     "output_type": "execute_result"
    }
   ],
   "source": [
    "df_data = pd.DataFrame()\n",
    "df_inf = pd.DataFrame(),203 + 1613\n",
    "for obj in tqdm(list_obj[1818:]):\n",
    "    data, inf, l = data_obj(obj)\n",
    "    df_data = pd.concat([df_data,data])\n",
    "    df_inf = pd.concat([df_inf,inf])\n",
    "df_data.shape"
   ]
  },
  {
   "cell_type": "code",
   "execution_count": 230,
   "id": "f25f93b6-010d-4b71-94cb-9a908ed65aa1",
   "metadata": {},
   "outputs": [],
   "source": [
    "df_inf_new = df_inf[df_inf.tabName.isin(['Образование','Медицина','Продукты'])]"
   ]
  },
  {
   "cell_type": "code",
   "execution_count": null,
   "id": "f95635eb-9b96-4d30-9249-738ac351578f",
   "metadata": {},
   "outputs": [],
   "source": [
    "df_inf_new['coun'] = 1"
   ]
  },
  {
   "cell_type": "code",
   "execution_count": 238,
   "id": "cc8cb6ae-a53c-424e-8058-46537c2987e8",
   "metadata": {},
   "outputs": [],
   "source": [
    "pd.DataFrame.to_excel(df_inf_new.groupby(['id','tabName']).count(),'Hometask_infr.xlsx', index = False)"
   ]
  },
  {
   "cell_type": "code",
   "execution_count": 239,
   "id": "71ab3e91-31f6-49cf-93b0-e571b1db8b69",
   "metadata": {},
   "outputs": [],
   "source": [
    "pd.DataFrame.to_pickle(df_data,'Hometask.pkl')"
   ]
  },
  {
   "cell_type": "code",
   "execution_count": 270,
   "id": "780dce62-ed44-439e-b73f-6fbd10f91849",
   "metadata": {},
   "outputs": [],
   "source": [
    "conn = sqlite3.connect('test_database')"
   ]
  },
  {
   "cell_type": "code",
   "execution_count": 273,
   "id": "be693492-8ed6-45d2-a111-6b0ef50a942a",
   "metadata": {},
   "outputs": [],
   "source": [
    "col = ['id',\n",
    " 'hobjId',\n",
    " 'pdId',\n",
    " 'region',\n",
    " 'address',\n",
    " 'objPublDt',\n",
    " 'floorMin',\n",
    " 'floorMax',\n",
    " 'objElemLivingCnt',\n",
    " 'objReady100PercDt',\n",
    " 'wallMaterialShortDesc',\n",
    " 'objLkFinishTypeCount',\n",
    " 'objLkFreePlanDesc',\n",
    " 'objElemParkingCnt',\n",
    " 'objSquareLiving',\n",
    " 'rpdNum',\n",
    " 'rpdPdfLink',\n",
    " 'rpdIssueDttm',\n",
    " 'objLkLatitude',\n",
    " 'objLkLongitude',\n",
    " 'objCompensFundFlg',\n",
    " 'objProblemFlg',\n",
    " 'objLkClassDesc']"
   ]
  },
  {
   "cell_type": "code",
   "execution_count": null,
   "id": "16ba23e5-9be6-4f9b-8946-901bd2a1f9f6",
   "metadata": {},
   "outputs": [],
   "source": [
    "###Запись всего Dataframe выдавло ошибку\n",
    "\n",
    "df[col].to_sql('products', conn, if_exists='replace', index = False)\n",
    "conn.commit()\n",
    "conn.close()"
   ]
  }
 ],
 "metadata": {
  "kernelspec": {
   "display_name": "Python 3 (ipykernel)",
   "language": "python",
   "name": "python3"
  },
  "language_info": {
   "codemirror_mode": {
    "name": "ipython",
    "version": 3
   },
   "file_extension": ".py",
   "mimetype": "text/x-python",
   "name": "python",
   "nbconvert_exporter": "python",
   "pygments_lexer": "ipython3",
   "version": "3.9.12"
  }
 },
 "nbformat": 4,
 "nbformat_minor": 5
}
