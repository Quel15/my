{
 "cells": [
  {
   "cell_type": "markdown",
   "metadata": {
    "pycharm": {
     "name": "#%% md\n"
    }
   },
   "source": [
    "[![Open In Colab](https://colab.research.google.com/assets/colab-badge.svg)](https://colab.research.google.com/github/4vel/python-intro/blob/main/Lesson5/notebooks/classes_.ipynb)"
   ]
  },
  {
   "cell_type": "markdown",
   "metadata": {
    "pycharm": {
     "name": "#%% md\n"
    }
   },
   "source": [
    "# Классы\n",
    "Классы генерируют множество объектов экземпляров"
   ]
  },
  {
   "cell_type": "markdown",
   "metadata": {
    "pycharm": {
     "name": "#%% md\n"
    }
   },
   "source": []
  },
  {
   "cell_type": "code",
   "execution_count": 257,
   "metadata": {
    "ExecuteTime": {
     "end_time": "2024-07-08T12:59:26.554203Z",
     "start_time": "2024-07-08T12:59:26.551567Z"
    },
    "pycharm": {
     "name": "#%%\n"
    },
    "tags": []
   },
   "outputs": [],
   "source": [
    "# Создание класса\n",
    "class Book:\n",
    "    publisher = \"ПИТЕР\"\n",
    "\n",
    "    def __init__(self, ):\n",
    "        self.bookmark = 0\n",
    "        self.author = 'author'\n",
    "        self.title = 'title'"
   ]
  },
  {
   "cell_type": "code",
   "execution_count": 258,
   "metadata": {
    "ExecuteTime": {
     "end_time": "2024-07-08T12:59:27.018646Z",
     "start_time": "2024-07-08T12:59:27.004552Z"
    },
    "collapsed": false,
    "jupyter": {
     "outputs_hidden": false
    },
    "pycharm": {
     "name": "#%%\n"
    }
   },
   "outputs": [],
   "source": [
    "my_book = Book()"
   ]
  },
  {
   "cell_type": "code",
   "execution_count": 259,
   "metadata": {
    "ExecuteTime": {
     "end_time": "2024-07-08T12:59:28.085949Z",
     "start_time": "2024-07-08T12:59:28.070997Z"
    },
    "collapsed": false,
    "jupyter": {
     "outputs_hidden": false
    },
    "pycharm": {
     "name": "#%%\n"
    }
   },
   "outputs": [],
   "source": [
    "my_book.title = \"Изучаем Python том 1\""
   ]
  },
  {
   "cell_type": "code",
   "execution_count": 260,
   "metadata": {
    "collapsed": false,
    "jupyter": {
     "outputs_hidden": false
    },
    "pycharm": {
     "name": "#%%\n"
    }
   },
   "outputs": [
    {
     "data": {
      "text/plain": [
       "'Изучаем Python том 1'"
      ]
     },
     "execution_count": 260,
     "metadata": {},
     "output_type": "execute_result"
    }
   ],
   "source": [
    "my_book.title"
   ]
  },
  {
   "cell_type": "code",
   "execution_count": 115,
   "metadata": {
    "collapsed": false,
    "jupyter": {
     "outputs_hidden": false
    },
    "pycharm": {
     "name": "#%%\n"
    }
   },
   "outputs": [],
   "source": [
    "# Инициализация\n",
    "my_book = Book(\"Марк Лутц\",\"Изучаем Python том 1\")\n",
    "your_book = Book(\"Марк Лутц\", \"Изучаем Python том 2\")"
   ]
  },
  {
   "cell_type": "code",
   "execution_count": 117,
   "metadata": {
    "collapsed": false,
    "jupyter": {
     "outputs_hidden": false
    },
    "pycharm": {
     "name": "#%%\n"
    }
   },
   "outputs": [],
   "source": [
    "my_book.bookmark = 10"
   ]
  },
  {
   "cell_type": "code",
   "execution_count": 118,
   "metadata": {
    "collapsed": false,
    "jupyter": {
     "outputs_hidden": false
    },
    "pycharm": {
     "name": "#%%\n"
    }
   },
   "outputs": [
    {
     "data": {
      "text/plain": [
       "10"
      ]
     },
     "execution_count": 118,
     "metadata": {},
     "output_type": "execute_result"
    }
   ],
   "source": [
    "my_book.bookmark"
   ]
  },
  {
   "cell_type": "code",
   "execution_count": 113,
   "metadata": {
    "collapsed": false,
    "jupyter": {
     "outputs_hidden": false
    },
    "pycharm": {
     "name": "#%%\n"
    }
   },
   "outputs": [
    {
     "data": {
      "text/plain": [
       "'ПИТЕР'"
      ]
     },
     "execution_count": 113,
     "metadata": {},
     "output_type": "execute_result"
    }
   ],
   "source": [
    "my_book.publisher"
   ]
  },
  {
   "cell_type": "code",
   "execution_count": 119,
   "metadata": {
    "collapsed": false,
    "jupyter": {
     "outputs_hidden": false
    },
    "pycharm": {
     "name": "#%%\n"
    }
   },
   "outputs": [
    {
     "data": {
      "text/plain": [
       "0"
      ]
     },
     "execution_count": 119,
     "metadata": {},
     "output_type": "execute_result"
    }
   ],
   "source": [
    "your_book.bookmark"
   ]
  },
  {
   "cell_type": "code",
   "execution_count": 121,
   "metadata": {
    "collapsed": false,
    "jupyter": {
     "outputs_hidden": false
    },
    "pycharm": {
     "name": "#%%\n"
    }
   },
   "outputs": [
    {
     "name": "stdout",
     "output_type": "stream",
     "text": [
      "Марк Лутц:Изучаем Python том 1\n",
      "Марк Лутц:Изучаем Python том 2\n"
     ]
    }
   ],
   "source": [
    "for book in [my_book, your_book]:\n",
    "    print(f\"{book.author}:{book.title}\")"
   ]
  },
  {
   "cell_type": "code",
   "execution_count": 2,
   "metadata": {
    "collapsed": false,
    "jupyter": {
     "outputs_hidden": false
    },
    "pycharm": {
     "name": "#%%\n"
    }
   },
   "outputs": [],
   "source": [
    "#%%writefile book.py\n",
    "# Методы\n",
    "class Book:\n",
    "\n",
    "    def __init__(self, author, title):\n",
    "        self.author = author\n",
    "        self.title = title\n",
    "        self.bookmark = None\n",
    "\n",
    "    def set_bookmark(self, page_number):\n",
    "        print(f'Закладка установлена на странице {page_number}')\n",
    "        self.bookmark = page_number\n",
    "\n",
    "    def get_bookmark(self):\n",
    "        print(f'Закладка на странице {self.bookmark}')\n",
    "        return self.bookmark\n"
   ]
  },
  {
   "cell_type": "code",
   "execution_count": 3,
   "metadata": {
    "collapsed": false,
    "jupyter": {
     "outputs_hidden": false
    },
    "pycharm": {
     "name": "#%%\n"
    }
   },
   "outputs": [],
   "source": [
    "b = Book(\"Марк Лутц\",\"Изучаем Python том 1\")"
   ]
  },
  {
   "cell_type": "code",
   "execution_count": 4,
   "metadata": {
    "collapsed": false,
    "jupyter": {
     "outputs_hidden": false
    },
    "pycharm": {
     "name": "#%%\n"
    }
   },
   "outputs": [
    {
     "name": "stdout",
     "output_type": "stream",
     "text": [
      "Закладка установлена на странице 105\n"
     ]
    }
   ],
   "source": [
    "b.set_bookmark(105)"
   ]
  },
  {
   "cell_type": "code",
   "execution_count": 5,
   "metadata": {
    "collapsed": false,
    "jupyter": {
     "outputs_hidden": false
    },
    "pycharm": {
     "name": "#%%\n"
    }
   },
   "outputs": [
    {
     "name": "stdout",
     "output_type": "stream",
     "text": [
      "Закладка на странице 105\n"
     ]
    },
    {
     "data": {
      "text/plain": [
       "105"
      ]
     },
     "execution_count": 5,
     "metadata": {},
     "output_type": "execute_result"
    }
   ],
   "source": [
    "b.get_bookmark()"
   ]
  },
  {
   "cell_type": "code",
   "execution_count": 6,
   "metadata": {
    "collapsed": false,
    "jupyter": {
     "outputs_hidden": false
    },
    "pycharm": {
     "name": "#%%\n"
    }
   },
   "outputs": [
    {
     "data": {
      "text/plain": [
       "105"
      ]
     },
     "execution_count": 6,
     "metadata": {},
     "output_type": "execute_result"
    }
   ],
   "source": [
    "b.bookmark"
   ]
  },
  {
   "cell_type": "code",
   "execution_count": 89,
   "metadata": {
    "collapsed": false,
    "jupyter": {
     "outputs_hidden": false
    },
    "pycharm": {
     "name": "#%%\n"
    }
   },
   "outputs": [],
   "source": [
    "# Практика"
   ]
  },
  {
   "cell_type": "code",
   "execution_count": 13,
   "metadata": {
    "collapsed": false,
    "jupyter": {
     "outputs_hidden": false
    },
    "pycharm": {
     "name": "#%%\n"
    }
   },
   "outputs": [],
   "source": [
    "import random"
   ]
  },
  {
   "cell_type": "markdown",
   "metadata": {
    "pycharm": {
     "name": "#%% md\n"
    }
   },
   "source": [
    "# 1. Создайте объект, который представляет собой книжную полку и продемонстрируйте ее работу\n",
    "* Книжная полка хранит объекты класса Book\n",
    "* У нее есть размер - количество книг, которое может в ней поместиться\n",
    "* Есть методы, которые позволяют положить книгу на полку и взять книгу с полки\n",
    "* Также есть метод, который показывает содержимое полки\n",
    "\n"
   ]
  },
  {
   "cell_type": "code",
   "execution_count": 250,
   "metadata": {
    "collapsed": false,
    "jupyter": {
     "outputs_hidden": false
    },
    "pycharm": {
     "name": "#%%\n"
    }
   },
   "outputs": [],
   "source": [
    "class BookPolka:\n",
    "    \n",
    "    def __init__(self,size ,count = 0):\n",
    "        self.size = size\n",
    "        self.count = count\n",
    "        self.arr = {}\n",
    "        \n",
    "    def __len__(self):\n",
    "        return len(self.arr)\n",
    "             \n",
    "    def put_book(self,book):\n",
    "        if isinstance(book,Book):\n",
    "            if len(self.arr) < self.size:\n",
    "                print('Book is put in the polka')\n",
    "                self.arr[book.author] = book.title\n",
    "                self.count +=1\n",
    "            else:\n",
    "                print('Net mest in polka')\n",
    "        else:\n",
    "            print('Its not a Book')\n",
    "            \n",
    "    def get_book(self, name):\n",
    "        if self.count > 0:\n",
    "            if self.arr.get(name):\n",
    "                self.count-=1\n",
    "                return f'Вы взяли кингу {self.arr.pop(name)} автора {name}'\n",
    "            else:\n",
    "                return f'Такой книги нет на полке'\n",
    "        else:\n",
    "            print('No book in polka')\n",
    "    \n",
    "    \n",
    "    def __repr__(self):\n",
    "        return f'In bookpolka {self.count} books'\n",
    "    "
   ]
  },
  {
   "cell_type": "code",
   "execution_count": 30,
   "metadata": {},
   "outputs": [],
   "source": [
    "b1 = Book('A','123')\n",
    "b2 = Book('B','1234')\n",
    "b3 = Book('C','1235')\n",
    "b4 = Book('D','1236')\n",
    "b5 = Book('T','1237')"
   ]
  },
  {
   "cell_type": "code",
   "execution_count": 251,
   "metadata": {},
   "outputs": [],
   "source": [
    "bookp = BookPolka(4)"
   ]
  },
  {
   "cell_type": "code",
   "execution_count": 252,
   "metadata": {},
   "outputs": [
    {
     "name": "stdout",
     "output_type": "stream",
     "text": [
      "Book is put in the polka\n",
      "Book is put in the polka\n",
      "Book is put in the polka\n",
      "Book is put in the polka\n",
      "Net mest in polka\n"
     ]
    }
   ],
   "source": [
    "bookp.put_book(b1)\n",
    "bookp.put_book(b2)\n",
    "bookp.put_book(b3)\n",
    "bookp.put_book(b4)\n",
    "bookp.put_book(b5)"
   ]
  },
  {
   "cell_type": "code",
   "execution_count": 254,
   "metadata": {},
   "outputs": [
    {
     "data": {
      "text/plain": [
       "'Такой книги нет на полке'"
      ]
     },
     "execution_count": 254,
     "metadata": {},
     "output_type": "execute_result"
    }
   ],
   "source": [
    "bookp.get_book('C')"
   ]
  },
  {
   "cell_type": "code",
   "execution_count": 255,
   "metadata": {},
   "outputs": [
    {
     "data": {
      "text/plain": [
       "3"
      ]
     },
     "execution_count": 255,
     "metadata": {},
     "output_type": "execute_result"
    }
   ],
   "source": [
    "bookp.count"
   ]
  },
  {
   "cell_type": "code",
   "execution_count": 256,
   "metadata": {},
   "outputs": [
    {
     "data": {
      "text/plain": [
       "In bookpolka 3 books"
      ]
     },
     "execution_count": 256,
     "metadata": {},
     "output_type": "execute_result"
    }
   ],
   "source": [
    "bookp"
   ]
  },
  {
   "cell_type": "markdown",
   "metadata": {
    "pycharm": {
     "name": "#%% md\n"
    }
   },
   "source": [
    "\n",
    "# 2. Спортивное задание\n",
    "Создайте класс Атлет\n",
    "* У атлета есть имя и уровень крутости от 1 до 10\n",
    "* атлет должен уметь бегать, в зависимости от уровня он может преодолевать дистанцию быстрее\n",
    "\n",
    "Создайте класс Команда\n",
    "* У команды есть название и участники - атлеты\n",
    "\n",
    "Создайте класс Cоревнование\n",
    "* Соревнование позволяет запустить эстафету\n",
    "* Замерять общее бега время для всей команды\n",
    "* Выводить результаты по командам в виде таблицы или графика\n",
    "\n",
    "\n",
    "Создайте n команд, в которых у атлетов разные/случайные уровни крутости,\n",
    "и проведите эстафету"
   ]
  },
  {
   "cell_type": "code",
   "execution_count": 478,
   "metadata": {},
   "outputs": [],
   "source": [
    "from dataclasses import dataclass\n",
    "import pandas as pd"
   ]
  },
  {
   "cell_type": "code",
   "execution_count": 570,
   "metadata": {
    "collapsed": false,
    "jupyter": {
     "outputs_hidden": false
    }
   },
   "outputs": [],
   "source": [
    "@dataclass\n",
    "class Atlet:\n",
    "    \n",
    "    name:str\n",
    "    level:int\n",
    "    base_speed = 300\n",
    "    \n",
    "    def run(self, dist):\n",
    "        print(f'Run {self.name}')\n",
    "        rezult = round(dist/(self.base_speed * (1+ (self.level-1)/10)),3)\n",
    "        return rezult\n",
    "    \n",
    "    def __repr__(self):\n",
    "        return f'Atlet {self.name} level {self.level}'\n"
   ]
  },
  {
   "cell_type": "code",
   "execution_count": 604,
   "metadata": {},
   "outputs": [],
   "source": [
    "#@dataclass\n",
    "class Team:\n",
    "    \n",
    "    def __init__(self,name):\n",
    "        self.name = name\n",
    "        self.team_list = []\n",
    "    \n",
    "    def __repr__(self):\n",
    "        return f'Team name {self.name}'\n",
    "    \n",
    "        \n",
    "    def add_atl(self,atlet):\n",
    "        #print('Add atlet')\n",
    "        self.team_list.append(atlet)"
   ]
  },
  {
   "cell_type": "code",
   "execution_count": 605,
   "metadata": {},
   "outputs": [],
   "source": [
    "class Turnir:\n",
    "    def __init__(self,dist, comm = None):\n",
    "        self.dist = dist\n",
    "        self.comm = comm\n",
    "       \n",
    "    def go_turnir(self):\n",
    "        rezult = {}\n",
    "        for team in self.comm:\n",
    "            time = 0\n",
    "            for atl in team.team_list:\n",
    "                time += atl.run(self.dist)\n",
    "            rezult[team.name] = time\n",
    "        return pd.DataFrame.from_dict(rezult, orient= 'index', columns=['Time'])\n",
    "    \n",
    "    def __repr__(self):\n",
    "        return f'{self.comm} , dist {self.dist}'\n",
    "    "
   ]
  },
  {
   "cell_type": "code",
   "execution_count": 611,
   "metadata": {},
   "outputs": [
    {
     "name": "stdout",
     "output_type": "stream",
     "text": [
      "Run 27\n",
      "Run 5\n",
      "Run 7\n",
      "Run 15\n",
      "Run 24\n",
      "Run 21\n",
      "Run 23\n",
      "Run 1\n",
      "Run 17\n",
      "Run 22\n",
      "Run 28\n",
      "Run 10\n",
      "Run 29\n",
      "Run 31\n",
      "Run 20\n",
      "Run 11\n",
      "Run 8\n",
      "Run 13\n",
      "Run 2\n",
      "Run 26\n",
      "Run 32\n",
      "Run 25\n",
      "Run 12\n",
      "Run 3\n",
      "Run 4\n",
      "Run 16\n",
      "Run 9\n",
      "Run 19\n",
      "Run 18\n",
      "Run 30\n",
      "Run 14\n",
      "Run 6\n"
     ]
    },
    {
     "data": {
      "text/html": [
       "<div>\n",
       "<style scoped>\n",
       "    .dataframe tbody tr th:only-of-type {\n",
       "        vertical-align: middle;\n",
       "    }\n",
       "\n",
       "    .dataframe tbody tr th {\n",
       "        vertical-align: top;\n",
       "    }\n",
       "\n",
       "    .dataframe thead th {\n",
       "        text-align: right;\n",
       "    }\n",
       "</style>\n",
       "<table border=\"1\" class=\"dataframe\">\n",
       "  <thead>\n",
       "    <tr style=\"text-align: right;\">\n",
       "      <th></th>\n",
       "      <th>Time</th>\n",
       "    </tr>\n",
       "  </thead>\n",
       "  <tbody>\n",
       "    <tr>\n",
       "      <th>Team1</th>\n",
       "      <td>30.241</td>\n",
       "    </tr>\n",
       "    <tr>\n",
       "      <th>Team2</th>\n",
       "      <td>29.482</td>\n",
       "    </tr>\n",
       "    <tr>\n",
       "      <th>Team3</th>\n",
       "      <td>28.307</td>\n",
       "    </tr>\n",
       "    <tr>\n",
       "      <th>Team4</th>\n",
       "      <td>27.608</td>\n",
       "    </tr>\n",
       "    <tr>\n",
       "      <th>Team5</th>\n",
       "      <td>35.000</td>\n",
       "    </tr>\n",
       "    <tr>\n",
       "      <th>Team6</th>\n",
       "      <td>25.883</td>\n",
       "    </tr>\n",
       "    <tr>\n",
       "      <th>Team7</th>\n",
       "      <td>30.192</td>\n",
       "    </tr>\n",
       "    <tr>\n",
       "      <th>Team8</th>\n",
       "      <td>29.456</td>\n",
       "    </tr>\n",
       "  </tbody>\n",
       "</table>\n",
       "</div>"
      ],
      "text/plain": [
       "         Time\n",
       "Team1  30.241\n",
       "Team2  29.482\n",
       "Team3  28.307\n",
       "Team4  27.608\n",
       "Team5  35.000\n",
       "Team6  25.883\n",
       "Team7  30.192\n",
       "Team8  29.456"
      ]
     },
     "execution_count": 611,
     "metadata": {},
     "output_type": "execute_result"
    }
   ],
   "source": [
    "n = 8\n",
    "team_size = 4\n",
    "\n",
    "atl_list = list(map(lambda x: Atlet(x,\\\n",
    "                        random.choice(range(1,10))),\\\n",
    "                        range(1,n*team_size+1)))\n",
    "\n",
    "teams = list(map(lambda x: Team('Team'+str(x)),\\\n",
    "                        range(1,n+1)))\n",
    "\n",
    "for team in teams:\n",
    "    for i in range(team_size):\n",
    "        atl = random.choice(atl_list)\n",
    "        team.add_atl(atl)\n",
    "        atl_list.remove(atl)\n",
    "        \n",
    "t = Turnir(3000,teams)\n",
    "\n",
    "t.go_turnir()"
   ]
  },
  {
   "cell_type": "code",
   "execution_count": null,
   "metadata": {},
   "outputs": [],
   "source": []
  }
 ],
 "metadata": {
  "kernelspec": {
   "display_name": "Python 3 (ipykernel)",
   "language": "python",
   "name": "python3"
  },
  "language_info": {
   "codemirror_mode": {
    "name": "ipython",
    "version": 3
   },
   "file_extension": ".py",
   "mimetype": "text/x-python",
   "name": "python",
   "nbconvert_exporter": "python",
   "pygments_lexer": "ipython3",
   "version": "3.9.12"
  }
 },
 "nbformat": 4,
 "nbformat_minor": 4
}
